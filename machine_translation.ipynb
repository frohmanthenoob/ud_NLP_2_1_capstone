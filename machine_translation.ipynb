{
 "cells": [
  {
   "cell_type": "markdown",
   "metadata": {
    "collapsed": true
   },
   "source": [
    "# Artificial Intelligence Nanodegree\n",
    "## Machine Translation Project\n",
    "In this notebook, sections that end with **'(IMPLEMENTATION)'** in the header indicate that the following blocks of code will require additional functionality which you must provide. Please be sure to read the instructions carefully!\n",
    "\n",
    "## Introduction\n",
    "In this notebook, you will build a deep neural network that functions as part of an end-to-end machine translation pipeline. Your completed pipeline will accept English text as input and return the French translation.\n",
    "\n",
    "- **Preprocess** - You'll convert text to sequence of integers.\n",
    "- **Models** Create models which accepts a sequence of integers as input and returns a probability distribution over possible translations. After learning about the basic types of neural networks that are often used for machine translation, you will engage in your own investigations, to design your own model!\n",
    "- **Prediction** Run the model on English text."
   ]
  },
  {
   "cell_type": "code",
   "execution_count": 1,
   "metadata": {},
   "outputs": [],
   "source": [
    "%load_ext autoreload\n",
    "%aimport helper, tests\n",
    "%autoreload 1"
   ]
  },
  {
   "cell_type": "code",
   "execution_count": 15,
   "metadata": {},
   "outputs": [],
   "source": [
    "import collections\n",
    "\n",
    "import helper\n",
    "import numpy as np\n",
    "import project_tests as tests\n",
    "\n",
    "from keras.preprocessing.text import Tokenizer\n",
    "from keras.preprocessing.sequence import pad_sequences\n",
    "from keras.models import Model\n",
    "from keras.layers import GRU, Input, Dense, TimeDistributed, Activation, RepeatVector, Bidirectional\n",
    "from keras.layers.embeddings import Embedding\n",
    "from keras.optimizers import Adam\n",
    "from keras.losses import sparse_categorical_crossentropy"
   ]
  },
  {
   "cell_type": "code",
   "execution_count": 33,
   "metadata": {},
   "outputs": [],
   "source": [
    "import matplotlib.pyplot as plt\n",
    "%matplotlib inline\n",
    "\n",
    "from keras.callbacks import TensorBoard, EarlyStopping, ReduceLROnPlateau\n",
    "from keras.layers import BatchNormalization\n",
    "\n",
    "def catAcc(m,x,y):\n",
    "    print(\"Train accurancy: \", m.evaluate(x, y, verbose=0)[1])\n",
    "\n",
    "def catHistory(his):\n",
    "    fig, (ax_loss, ax_score) = plt.subplots(1, 2, figsize=(15,5))\n",
    "    ax_loss.plot(his.epoch, his.history[\"loss\"], label=\"Train loss\")\n",
    "    ax_loss.plot(his.epoch, his.history[\"val_loss\"], label=\"Validation loss\")\n",
    "    ax_loss.legend()\n",
    "    ax_score.plot(his.epoch, his.history[\"acc\"], label=\"Train score\")\n",
    "    ax_score.plot(his.epoch, his.history[\"val_acc\"], label=\"Validation score\")\n",
    "    ax_score.legend()"
   ]
  },
  {
   "cell_type": "markdown",
   "metadata": {},
   "source": [
    "### Verify access to the GPU\n",
    "The following test applies only if you expect to be using a GPU, e.g., while running in a Udacity Workspace or using an AWS instance with GPU support. Run the next cell, and verify that the device_type is \"GPU\".\n",
    "- If the device is not GPU & you are running from a Udacity Workspace, then save your workspace with the icon at the top, then click \"enable\" at the bottom of the workspace.\n",
    "- If the device is not GPU & you are running from an AWS instance, then refer to the cloud computing instructions in the classroom to verify your setup steps."
   ]
  },
  {
   "cell_type": "code",
   "execution_count": 4,
   "metadata": {},
   "outputs": [
    {
     "name": "stdout",
     "output_type": "stream",
     "text": [
      "[name: \"/cpu:0\"\n",
      "device_type: \"CPU\"\n",
      "memory_limit: 268435456\n",
      "locality {\n",
      "}\n",
      "incarnation: 4155485099448991088\n",
      ", name: \"/gpu:0\"\n",
      "device_type: \"GPU\"\n",
      "memory_limit: 357302272\n",
      "locality {\n",
      "  bus_id: 1\n",
      "}\n",
      "incarnation: 12393585368006079585\n",
      "physical_device_desc: \"device: 0, name: Tesla K80, pci bus id: 0000:00:04.0\"\n",
      "]\n"
     ]
    }
   ],
   "source": [
    "from tensorflow.python.client import device_lib\n",
    "print(device_lib.list_local_devices())"
   ]
  },
  {
   "cell_type": "markdown",
   "metadata": {},
   "source": [
    "## Dataset\n",
    "We begin by investigating the dataset that will be used to train and evaluate your pipeline.  The most common datasets used for machine translation are from [WMT](http://www.statmt.org/).  However, that will take a long time to train a neural network on.  We'll be using a dataset we created for this project that contains a small vocabulary.  You'll be able to train your model in a reasonable time with this dataset.\n",
    "### Load Data\n",
    "The data is located in `data/small_vocab_en` and `data/small_vocab_fr`. The `small_vocab_en` file contains English sentences with their French translations in the `small_vocab_fr` file. Load the English and French data from these files from running the cell below."
   ]
  },
  {
   "cell_type": "code",
   "execution_count": 5,
   "metadata": {},
   "outputs": [
    {
     "name": "stdout",
     "output_type": "stream",
     "text": [
      "Dataset Loaded\n"
     ]
    }
   ],
   "source": [
    "# Load English data\n",
    "english_sentences = helper.load_data('data/small_vocab_en')\n",
    "# Load French data\n",
    "french_sentences = helper.load_data('data/small_vocab_fr')\n",
    "\n",
    "print('Dataset Loaded')"
   ]
  },
  {
   "cell_type": "markdown",
   "metadata": {},
   "source": [
    "### Files\n",
    "Each line in `small_vocab_en` contains an English sentence with the respective translation in each line of `small_vocab_fr`.  View the first two lines from each file."
   ]
  },
  {
   "cell_type": "code",
   "execution_count": 6,
   "metadata": {},
   "outputs": [
    {
     "name": "stdout",
     "output_type": "stream",
     "text": [
      "small_vocab_en Line 1:  new jersey is sometimes quiet during autumn , and it is snowy in april .\n",
      "small_vocab_fr Line 1:  new jersey est parfois calme pendant l' automne , et il est neigeux en avril .\n",
      "small_vocab_en Line 2:  the united states is usually chilly during july , and it is usually freezing in november .\n",
      "small_vocab_fr Line 2:  les états-unis est généralement froid en juillet , et il gèle habituellement en novembre .\n"
     ]
    }
   ],
   "source": [
    "for sample_i in range(2):\n",
    "    print('small_vocab_en Line {}:  {}'.format(sample_i + 1, english_sentences[sample_i]))\n",
    "    print('small_vocab_fr Line {}:  {}'.format(sample_i + 1, french_sentences[sample_i]))"
   ]
  },
  {
   "cell_type": "markdown",
   "metadata": {},
   "source": [
    "From looking at the sentences, you can see they have been preprocessed already.  The puncuations have been delimited using spaces. All the text have been converted to lowercase.  This should save you some time, but the text requires more preprocessing.\n",
    "### Vocabulary\n",
    "The complexity of the problem is determined by the complexity of the vocabulary.  A more complex vocabulary is a more complex problem.  Let's look at the complexity of the dataset we'll be working with."
   ]
  },
  {
   "cell_type": "code",
   "execution_count": 7,
   "metadata": {},
   "outputs": [
    {
     "name": "stdout",
     "output_type": "stream",
     "text": [
      "1823250 English words.\n",
      "227 unique English words.\n",
      "10 Most common words in the English dataset:\n",
      "\"is\" \",\" \".\" \"in\" \"it\" \"during\" \"the\" \"but\" \"and\" \"sometimes\"\n",
      "\n",
      "1961295 French words.\n",
      "355 unique French words.\n",
      "10 Most common words in the French dataset:\n",
      "\"est\" \".\" \",\" \"en\" \"il\" \"les\" \"mais\" \"et\" \"la\" \"parfois\"\n"
     ]
    }
   ],
   "source": [
    "english_words_counter = collections.Counter([word for sentence in english_sentences for word in sentence.split()])\n",
    "french_words_counter = collections.Counter([word for sentence in french_sentences for word in sentence.split()])\n",
    "\n",
    "print('{} English words.'.format(len([word for sentence in english_sentences for word in sentence.split()])))\n",
    "print('{} unique English words.'.format(len(english_words_counter)))\n",
    "print('10 Most common words in the English dataset:')\n",
    "print('\"' + '\" \"'.join(list(zip(*english_words_counter.most_common(10)))[0]) + '\"')\n",
    "print()\n",
    "print('{} French words.'.format(len([word for sentence in french_sentences for word in sentence.split()])))\n",
    "print('{} unique French words.'.format(len(french_words_counter)))\n",
    "print('10 Most common words in the French dataset:')\n",
    "print('\"' + '\" \"'.join(list(zip(*french_words_counter.most_common(10)))[0]) + '\"')"
   ]
  },
  {
   "cell_type": "markdown",
   "metadata": {},
   "source": [
    "For comparison, _Alice's Adventures in Wonderland_ contains 2,766 unique words of a total of 15,500 words.\n",
    "## Preprocess\n",
    "For this project, you won't use text data as input to your model. Instead, you'll convert the text into sequences of integers using the following preprocess methods:\n",
    "1. Tokenize the words into ids\n",
    "2. Add padding to make all the sequences the same length.\n",
    "\n",
    "Time to start preprocessing the data...\n",
    "### Tokenize (IMPLEMENTATION)\n",
    "For a neural network to predict on text data, it first has to be turned into data it can understand. Text data like \"dog\" is a sequence of ASCII character encodings.  Since a neural network is a series of multiplication and addition operations, the input data needs to be number(s).\n",
    "\n",
    "We can turn each character into a number or each word into a number.  These are called character and word ids, respectively.  Character ids are used for character level models that generate text predictions for each character.  A word level model uses word ids that generate text predictions for each word.  Word level models tend to learn better, since they are lower in complexity, so we'll use those.\n",
    "\n",
    "Turn each sentence into a sequence of words ids using Keras's [`Tokenizer`](https://keras.io/preprocessing/text/#tokenizer) function. Use this function to tokenize `english_sentences` and `french_sentences` in the cell below.\n",
    "\n",
    "Running the cell will run `tokenize` on sample data and show output for debugging."
   ]
  },
  {
   "cell_type": "code",
   "execution_count": 8,
   "metadata": {},
   "outputs": [
    {
     "name": "stdout",
     "output_type": "stream",
     "text": [
      "{'the': 1, 'quick': 2, 'a': 3, 'brown': 4, 'fox': 5, 'jumps': 6, 'over': 7, 'lazy': 8, 'dog': 9, 'by': 10, 'jove': 11, 'my': 12, 'study': 13, 'of': 14, 'lexicography': 15, 'won': 16, 'prize': 17, 'this': 18, 'is': 19, 'short': 20, 'sentence': 21}\n",
      "\n",
      "Sequence 1 in x\n",
      "  Input:  The quick brown fox jumps over the lazy dog .\n",
      "  Output: [1, 2, 4, 5, 6, 7, 1, 8, 9]\n",
      "Sequence 2 in x\n",
      "  Input:  By Jove , my quick study of lexicography won a prize .\n",
      "  Output: [10, 11, 12, 2, 13, 14, 15, 16, 3, 17]\n",
      "Sequence 3 in x\n",
      "  Input:  This is a short sentence .\n",
      "  Output: [18, 19, 3, 20, 21]\n"
     ]
    }
   ],
   "source": [
    "def tokenize(x):\n",
    "    tkz = Tokenizer()\n",
    "    tkz.fit_on_texts(x)\n",
    "    return tkz.texts_to_sequences(x), tkz\n",
    "\n",
    "tests.test_tokenize(tokenize)\n",
    "\n",
    "# Tokenize Example output\n",
    "text_sentences = [\n",
    "    'The quick brown fox jumps over the lazy dog .',\n",
    "    'By Jove , my quick study of lexicography won a prize .',\n",
    "    'This is a short sentence .']\n",
    "text_tokenized, text_tokenizer = tokenize(text_sentences)\n",
    "print(text_tokenizer.word_index)\n",
    "print()\n",
    "for sample_i, (sent, token_sent) in enumerate(zip(text_sentences, text_tokenized)):\n",
    "    print('Sequence {} in x'.format(sample_i + 1))\n",
    "    print('  Input:  {}'.format(sent))\n",
    "    print('  Output: {}'.format(token_sent))"
   ]
  },
  {
   "cell_type": "markdown",
   "metadata": {},
   "source": [
    "### Padding (IMPLEMENTATION)\n",
    "When batching the sequence of word ids together, each sequence needs to be the same length.  Since sentences are dynamic in length, we can add padding to the end of the sequences to make them the same length.\n",
    "\n",
    "Make sure all the English sequences have the same length and all the French sequences have the same length by adding padding to the **end** of each sequence using Keras's [`pad_sequences`](https://keras.io/preprocessing/sequence/#pad_sequences) function."
   ]
  },
  {
   "cell_type": "code",
   "execution_count": 9,
   "metadata": {},
   "outputs": [
    {
     "name": "stdout",
     "output_type": "stream",
     "text": [
      "Sequence 1 in x\n",
      "  Input:  [1 2 4 5 6 7 1 8 9]\n",
      "  Output: [1 2 4 5 6 7 1 8 9 0]\n",
      "Sequence 2 in x\n",
      "  Input:  [10 11 12  2 13 14 15 16  3 17]\n",
      "  Output: [10 11 12  2 13 14 15 16  3 17]\n",
      "Sequence 3 in x\n",
      "  Input:  [18 19  3 20 21]\n",
      "  Output: [18 19  3 20 21  0  0  0  0  0]\n"
     ]
    }
   ],
   "source": [
    "def pad(x, length=None):\n",
    "    return pad_sequences(x,padding='post') if length==None else pad_sequences(x, maxlen=length,padding='post')\n",
    "\n",
    "tests.test_pad(pad)\n",
    "\n",
    "# Pad Tokenized output\n",
    "test_pad = pad(text_tokenized)\n",
    "for sample_i, (token_sent, pad_sent) in enumerate(zip(text_tokenized, test_pad)):\n",
    "    print('Sequence {} in x'.format(sample_i + 1))\n",
    "    print('  Input:  {}'.format(np.array(token_sent)))\n",
    "    print('  Output: {}'.format(pad_sent))"
   ]
  },
  {
   "cell_type": "markdown",
   "metadata": {},
   "source": [
    "### Preprocess Pipeline\n",
    "Your focus for this project is to build neural network architecture, so we won't ask you to create a preprocess pipeline.  Instead, we've provided you with the implementation of the `preprocess` function."
   ]
  },
  {
   "cell_type": "code",
   "execution_count": 10,
   "metadata": {},
   "outputs": [
    {
     "name": "stdout",
     "output_type": "stream",
     "text": [
      "Data Preprocessed\n",
      "Max English sentence length: 15\n",
      "Max French sentence length: 21\n",
      "English vocabulary size: 199\n",
      "French vocabulary size: 344\n"
     ]
    }
   ],
   "source": [
    "def preprocess(x, y):\n",
    "    \"\"\"\n",
    "    Preprocess x and y\n",
    "    :param x: Feature List of sentences\n",
    "    :param y: Label List of sentences\n",
    "    :return: Tuple of (Preprocessed x, Preprocessed y, x tokenizer, y tokenizer)\n",
    "    \"\"\"\n",
    "    preprocess_x, x_tk = tokenize(x)\n",
    "    preprocess_y, y_tk = tokenize(y)\n",
    "\n",
    "    preprocess_x = pad(preprocess_x)\n",
    "    preprocess_y = pad(preprocess_y)\n",
    "\n",
    "    # Keras's sparse_categorical_crossentropy function requires the labels to be in 3 dimensions\n",
    "    preprocess_y = preprocess_y.reshape(*preprocess_y.shape, 1)\n",
    "\n",
    "    return preprocess_x, preprocess_y, x_tk, y_tk\n",
    "\n",
    "preproc_english_sentences, preproc_french_sentences, english_tokenizer, french_tokenizer =\\\n",
    "    preprocess(english_sentences, french_sentences)\n",
    "    \n",
    "max_english_sequence_length = preproc_english_sentences.shape[1]\n",
    "max_french_sequence_length = preproc_french_sentences.shape[1]\n",
    "english_vocab_size = len(english_tokenizer.word_index)\n",
    "french_vocab_size = len(french_tokenizer.word_index)\n",
    "\n",
    "print('Data Preprocessed')\n",
    "print(\"Max English sentence length:\", max_english_sequence_length)\n",
    "print(\"Max French sentence length:\", max_french_sequence_length)\n",
    "print(\"English vocabulary size:\", english_vocab_size)\n",
    "print(\"French vocabulary size:\", french_vocab_size)"
   ]
  },
  {
   "cell_type": "markdown",
   "metadata": {},
   "source": [
    "## Models\n",
    "In this section, you will experiment with various neural network architectures.\n",
    "You will begin by training four relatively simple architectures.\n",
    "- Model 1 is a simple RNN\n",
    "- Model 2 is a RNN with Embedding\n",
    "- Model 3 is a Bidirectional RNN\n",
    "- Model 4 is an optional Encoder-Decoder RNN\n",
    "\n",
    "After experimenting with the four simple architectures, you will construct a deeper architecture that is designed to outperform all four models.\n",
    "### Ids Back to Text\n",
    "The neural network will be translating the input to words ids, which isn't the final form we want.  We want the French translation.  The function `logits_to_text` will bridge the gab between the logits from the neural network to the French translation.  You'll be using this function to better understand the output of the neural network."
   ]
  },
  {
   "cell_type": "code",
   "execution_count": 11,
   "metadata": {},
   "outputs": [
    {
     "name": "stdout",
     "output_type": "stream",
     "text": [
      "`logits_to_text` function loaded.\n"
     ]
    }
   ],
   "source": [
    "def logits_to_text(logits, tokenizer):\n",
    "    \"\"\"\n",
    "    Turn logits from a neural network into text using the tokenizer\n",
    "    :param logits: Logits from a neural network\n",
    "    :param tokenizer: Keras Tokenizer fit on the labels\n",
    "    :return: String that represents the text of the logits\n",
    "    \"\"\"\n",
    "    index_to_words = {id: word for word, id in tokenizer.word_index.items()}\n",
    "    index_to_words[0] = '<PAD>'\n",
    "\n",
    "    return ' '.join([index_to_words[prediction] for prediction in np.argmax(logits, 1)])\n",
    "\n",
    "print('`logits_to_text` function loaded.')"
   ]
  },
  {
   "cell_type": "markdown",
   "metadata": {},
   "source": [
    "### Model 1: RNN (IMPLEMENTATION)\n",
    "![RNN](images/rnn.png)\n",
    "A basic RNN model is a good baseline for sequence data.  In this model, you'll build a RNN that translates English to French."
   ]
  },
  {
   "cell_type": "code",
   "execution_count": 22,
   "metadata": {},
   "outputs": [
    {
     "name": "stdout",
     "output_type": "stream",
     "text": [
      "Train on 110288 samples, validate on 27573 samples\n",
      "Epoch 1/10\n",
      "110288/110288 [==============================] - 7s 60us/step - loss: 3.4440 - acc: 0.4124 - val_loss: nan - val_acc: 0.4556\n",
      "Epoch 2/10\n",
      "110288/110288 [==============================] - 6s 58us/step - loss: 2.4181 - acc: 0.4729 - val_loss: nan - val_acc: 0.4888\n",
      "Epoch 3/10\n",
      "110288/110288 [==============================] - 6s 58us/step - loss: 2.1651 - acc: 0.5122 - val_loss: nan - val_acc: 0.5332\n",
      "Epoch 4/10\n",
      "110288/110288 [==============================] - 6s 58us/step - loss: 1.9469 - acc: 0.5470 - val_loss: nan - val_acc: 0.5717\n",
      "Epoch 5/10\n",
      "110288/110288 [==============================] - 6s 58us/step - loss: 1.7989 - acc: 0.5761 - val_loss: nan - val_acc: 0.5837\n",
      "Epoch 6/10\n",
      "110288/110288 [==============================] - 6s 58us/step - loss: 1.6936 - acc: 0.5838 - val_loss: nan - val_acc: 0.5904\n",
      "Epoch 7/10\n",
      "110288/110288 [==============================] - 6s 58us/step - loss: 1.6177 - acc: 0.5916 - val_loss: nan - val_acc: 0.5973\n",
      "Epoch 8/10\n",
      "110288/110288 [==============================] - 6s 58us/step - loss: 1.5605 - acc: 0.5994 - val_loss: nan - val_acc: 0.6041\n",
      "Epoch 9/10\n",
      "110288/110288 [==============================] - 6s 58us/step - loss: 1.5138 - acc: 0.6061 - val_loss: nan - val_acc: 0.6075\n",
      "Epoch 10/10\n",
      "110288/110288 [==============================] - 6s 58us/step - loss: 1.4752 - acc: 0.6120 - val_loss: nan - val_acc: 0.6146\n",
      "new jersey est parfois parfois en en et il est est en en <PAD> <PAD> <PAD> <PAD> <PAD> <PAD> <PAD> <PAD>\n"
     ]
    }
   ],
   "source": [
    "def simple_model(input_shape, output_sequence_length, english_vocab_size, french_vocab_size):\n",
    "    \"\"\"\n",
    "    lr: learning rate\n",
    "    il: input layer\n",
    "    gl: GRU layer\n",
    "    td: TimeDistributed wrapper\n",
    "    m: model\n",
    "    \"\"\"\n",
    "    lr = 1e-3\n",
    "    il = Input(input_shape[1:])\n",
    "    gl = GRU(64, return_sequences=True)(il)\n",
    "    td = TimeDistributed(Dense(french_vocab_size, activation='softmax'))(gl)\n",
    "    \n",
    "    m = Model(inputs=il, outputs=td)\n",
    "    m.compile(loss=sparse_categorical_crossentropy,\n",
    "                  optimizer=Adam(lr),\n",
    "                  metrics=['accuracy'])\n",
    "    \n",
    "    return m\n",
    "\n",
    "tests.test_simple_model(simple_model)\n",
    "\n",
    "tmp_x = pad(preproc_english_sentences, max_french_sequence_length)\n",
    "tmp_x = tmp_x.reshape((-1, preproc_french_sentences.shape[-2], 1))\n",
    "\n",
    "sm = simple_model(\n",
    "    tmp_x.shape,\n",
    "    max_french_sequence_length,\n",
    "    english_vocab_size,\n",
    "    french_vocab_size)\n",
    "\n",
    "# es = EarlyStopping(monitor='val_loss', patience=3)\n",
    "# h = sm.fit(tmp_x, preproc_french_sentences, batch_size=1024, epochs=10, validation_split=0.4, callbacks=[es])\n",
    "\n",
    "es = EarlyStopping(monitor='val_acc', patience=3)\n",
    "tb = TensorBoard(log_dir='./logs/sm', histogram_freq=0, write_graph=True, write_images=True)\n",
    "h = sm.fit(tmp_x, preproc_french_sentences, batch_size=1024, epochs=10, validation_split=0.2, callbacks=[tb,es])\n",
    "\n",
    "print(logits_to_text(sm.predict(tmp_x[:1])[0], french_tokenizer))"
   ]
  },
  {
   "cell_type": "code",
   "execution_count": 23,
   "metadata": {},
   "outputs": [
    {
     "name": "stdout",
     "output_type": "stream",
     "text": [
      "Train accurancy:  0.614475067178\n"
     ]
    },
    {
     "data": {
      "image/png": "[encoded data removed]",
      "text/plain": [
       "<matplotlib.figure.Figure at 0x7f713f0d9c50>"
      ]
     },
     "metadata": {
      "needs_background": "light"
     },
     "output_type": "display_data"
    }
   ],
   "source": [
    "catAcc(sm, tmp_x, preproc_french_sentences)\n",
    "catHistory(h)"
   ]
  },
  {
   "cell_type": "markdown",
   "metadata": {},
   "source": [
    "### Model 2: Embedding (IMPLEMENTATION)\n",
    "![RNN](images/embedding.png)\n",
    "You've turned the words into ids, but there's a better representation of a word.  This is called word embeddings.  An embedding is a vector representation of the word that is close to similar words in n-dimensional space, where the n represents the size of the embedding vectors.\n",
    "\n",
    "In this model, you'll create a RNN model using embedding."
   ]
  },
  {
   "cell_type": "code",
   "execution_count": 24,
   "metadata": {},
   "outputs": [
    {
     "name": "stdout",
     "output_type": "stream",
     "text": [
      "Train on 110288 samples, validate on 27573 samples\n",
      "Epoch 1/10\n",
      "110288/110288 [==============================] - 7s 68us/step - loss: 3.8167 - acc: 0.4002 - val_loss: nan - val_acc: 0.4093\n",
      "Epoch 2/10\n",
      "110288/110288 [==============================] - 7s 66us/step - loss: 2.7439 - acc: 0.4310 - val_loss: nan - val_acc: 0.5122\n",
      "Epoch 3/10\n",
      "110288/110288 [==============================] - 7s 66us/step - loss: 2.0056 - acc: 0.5561 - val_loss: nan - val_acc: 0.6090\n",
      "Epoch 4/10\n",
      "110288/110288 [==============================] - 7s 66us/step - loss: 1.4384 - acc: 0.6532 - val_loss: nan - val_acc: 0.6930\n",
      "Epoch 5/10\n",
      "110288/110288 [==============================] - 7s 66us/step - loss: 1.1364 - acc: 0.7211 - val_loss: nan - val_acc: 0.7463\n",
      "Epoch 6/10\n",
      "110288/110288 [==============================] - 7s 66us/step - loss: 0.9485 - acc: 0.7608 - val_loss: nan - val_acc: 0.7741\n",
      "Epoch 7/10\n",
      "110288/110288 [==============================] - 7s 66us/step - loss: 0.8204 - acc: 0.7849 - val_loss: nan - val_acc: 0.7969\n",
      "Epoch 8/10\n",
      "110288/110288 [==============================] - 7s 66us/step - loss: 0.7229 - acc: 0.8052 - val_loss: nan - val_acc: 0.8128\n",
      "Epoch 9/10\n",
      "110288/110288 [==============================] - 7s 66us/step - loss: 0.6487 - acc: 0.8209 - val_loss: nan - val_acc: 0.8246\n",
      "Epoch 10/10\n",
      "110288/110288 [==============================] - 7s 66us/step - loss: 0.5936 - acc: 0.8330 - val_loss: nan - val_acc: 0.8375\n",
      "new jersey est parfois calme en l' et il il est neigeux en avril <PAD> <PAD> <PAD> <PAD> <PAD> <PAD> <PAD>\n"
     ]
    }
   ],
   "source": [
    "def embed_model(input_shape, output_sequence_length, english_vocab_size, french_vocab_size):\n",
    "    \"\"\"\n",
    "    lr: learning rate\n",
    "    il: input layer\n",
    "    el: embedding layer\n",
    "    gl: GRU layer\n",
    "    td: TimeDistributed wrapper\n",
    "    m: model\n",
    "    \"\"\"\n",
    "    lr = 1e-3\n",
    "    il = Input(input_shape[1:])\n",
    "    el = Embedding(english_vocab_size, 64, input_length=output_sequence_length)(il)\n",
    "    gl = GRU(64, return_sequences=True)(el)\n",
    "    td = TimeDistributed(Dense(french_vocab_size, activation='softmax'))(gl)\n",
    "    \n",
    "    m = Model(inputs=il, outputs=td)\n",
    "    m.compile(loss=sparse_categorical_crossentropy,\n",
    "                  optimizer=Adam(lr),\n",
    "                  metrics=['accuracy'])\n",
    "    \n",
    "    return m\n",
    "\n",
    "tests.test_embed_model(embed_model)\n",
    "\n",
    "# TODO: Reshape the input\n",
    "tmp_x = pad(preproc_english_sentences, max_french_sequence_length)\n",
    "\n",
    "# TODO: Train the neural network\n",
    "em = embed_model(\n",
    "    tmp_x.shape,\n",
    "    max_french_sequence_length,\n",
    "    english_vocab_size,\n",
    "    french_vocab_size)\n",
    "\n",
    "es = EarlyStopping(monitor='val_acc', patience=3)\n",
    "tb = TensorBoard(log_dir='./logs/em', write_graph=True, write_images=True)\n",
    "\n",
    "h = em.fit(tmp_x, preproc_french_sentences, batch_size=1024, epochs=10, validation_split=0.2, callbacks=[tb,es])\n",
    "\n",
    "# TODO: Print prediction(s)\n",
    "print(logits_to_text(em.predict(tmp_x[:1])[0], french_tokenizer))"
   ]
  },
  {
   "cell_type": "code",
   "execution_count": 25,
   "metadata": {},
   "outputs": [
    {
     "name": "stdout",
     "output_type": "stream",
     "text": [
      "Train accurancy:  0.837841537391\n"
     ]
    },
    {
     "data": {
      "image/png": "[encoded data removed]",
      "text/plain": [
       "<matplotlib.figure.Figure at 0x7f713eff4cc0>"
      ]
     },
     "metadata": {
      "needs_background": "light"
     },
     "output_type": "display_data"
    }
   ],
   "source": [
    "catAcc(em, tmp_x, preproc_french_sentences)\n",
    "catHistory(h)"
   ]
  },
  {
   "cell_type": "markdown",
   "metadata": {},
   "source": [
    "### Model 3: Bidirectional RNNs (IMPLEMENTATION)\n",
    "![RNN](images/bidirectional.png)\n",
    "One restriction of a RNN is that it can't see the future input, only the past.  This is where bidirectional recurrent neural networks come in.  They are able to see the future data."
   ]
  },
  {
   "cell_type": "code",
   "execution_count": 27,
   "metadata": {},
   "outputs": [
    {
     "name": "stdout",
     "output_type": "stream",
     "text": [
      "Train on 110288 samples, validate on 27573 samples\n",
      "Epoch 1/10\n",
      "110288/110288 [==============================] - 10s 92us/step - loss: 3.1771 - acc: 0.4646 - val_loss: nan - val_acc: 0.5312\n",
      "Epoch 2/10\n",
      "110288/110288 [==============================] - 10s 90us/step - loss: 1.9155 - acc: 0.5560 - val_loss: nan - val_acc: 0.5756\n",
      "Epoch 3/10\n",
      "110288/110288 [==============================] - 10s 90us/step - loss: 1.6101 - acc: 0.5911 - val_loss: nan - val_acc: 0.6085\n",
      "Epoch 4/10\n",
      "110288/110288 [==============================] - 10s 90us/step - loss: 1.4686 - acc: 0.6155 - val_loss: nan - val_acc: 0.6227\n",
      "Epoch 5/10\n",
      "110288/110288 [==============================] - 10s 90us/step - loss: 1.3858 - acc: 0.6296 - val_loss: nan - val_acc: 0.6372\n",
      "Epoch 6/10\n",
      "110288/110288 [==============================] - 10s 89us/step - loss: 1.3251 - acc: 0.6378 - val_loss: nan - val_acc: 0.6418\n",
      "Epoch 7/10\n",
      "110288/110288 [==============================] - 10s 90us/step - loss: 1.2738 - acc: 0.6467 - val_loss: nan - val_acc: 0.6520\n",
      "Epoch 8/10\n",
      "110288/110288 [==============================] - 10s 90us/step - loss: 1.2287 - acc: 0.6534 - val_loss: nan - val_acc: 0.6551\n",
      "Epoch 9/10\n",
      "110288/110288 [==============================] - 10s 90us/step - loss: 1.1877 - acc: 0.6611 - val_loss: nan - val_acc: 0.6630\n",
      "Epoch 10/10\n",
      "110288/110288 [==============================] - 10s 90us/step - loss: 1.1539 - acc: 0.6672 - val_loss: nan - val_acc: 0.6681\n",
      "new jersey est parfois calme en l' et il est est en en <PAD> <PAD> <PAD> <PAD> <PAD> <PAD> <PAD> <PAD>\n"
     ]
    }
   ],
   "source": [
    "def bd_model(input_shape, output_sequence_length, english_vocab_size, french_vocab_size):\n",
    "    \"\"\"\n",
    "    lr: learning rate\n",
    "    il: input layer\n",
    "    gl: GRU layer\n",
    "    bd: Bidirectional wrapper\n",
    "    td: TimeDistributed wrapper\n",
    "    m: model\n",
    "    \"\"\"\n",
    "    lr = 1e-3\n",
    "    il = Input(input_shape[1:])\n",
    "    gl = GRU(64, return_sequences=True)\n",
    "    bd = Bidirectional(gl)(il)\n",
    "    td = TimeDistributed(Dense(french_vocab_size, activation='softmax'))(bd)\n",
    "    \n",
    "    m = Model(inputs=il, outputs=td)\n",
    "    m.compile(loss=sparse_categorical_crossentropy,\n",
    "                  optimizer=Adam(lr),\n",
    "                  metrics=['accuracy'])\n",
    "    \n",
    "    return m\n",
    "\n",
    "tests.test_bd_model(bd_model)\n",
    "\n",
    "\n",
    "# TODO: Train and Print prediction(s)\n",
    "tmp_x = pad(preproc_english_sentences, max_french_sequence_length)\n",
    "tmp_x = tmp_x.reshape((-1, preproc_french_sentences.shape[-2], 1))\n",
    "\n",
    "bm = bd_model(\n",
    "    tmp_x.shape,\n",
    "    max_french_sequence_length,\n",
    "    english_vocab_size,\n",
    "    french_vocab_size)\n",
    "\n",
    "es = EarlyStopping(monitor='val_acc', patience=3)\n",
    "tb = TensorBoard(log_dir='./logs/bm', write_graph=True, write_images=True)\n",
    "\n",
    "h = bm.fit(tmp_x, preproc_french_sentences, batch_size=1024, epochs=10, validation_split=0.2, callbacks=[tb,es])\n",
    "\n",
    "print(logits_to_text(bm.predict(tmp_x[:1])[0], french_tokenizer))"
   ]
  },
  {
   "cell_type": "code",
   "execution_count": 28,
   "metadata": {},
   "outputs": [
    {
     "name": "stdout",
     "output_type": "stream",
     "text": [
      "Train accurancy:  0.668185830371\n"
     ]
    },
    {
     "data": {
      "image/png": "[encoded data removed]",
      "text/plain": [
       "<matplotlib.figure.Figure at 0x7f7134326f98>"
      ]
     },
     "metadata": {
      "needs_background": "light"
     },
     "output_type": "display_data"
    }
   ],
   "source": [
    "catAcc(bm, tmp_x, preproc_french_sentences)\n",
    "catHistory(h)"
   ]
  },
  {
   "cell_type": "markdown",
   "metadata": {},
   "source": [
    "### Model 4: Encoder-Decoder (OPTIONAL)\n",
    "Time to look at encoder-decoder models.  This model is made up of an encoder and decoder. The encoder creates a matrix representation of the sentence.  The decoder takes this matrix as input and predicts the translation as output.\n",
    "\n",
    "Create an encoder-decoder model in the cell below."
   ]
  },
  {
   "cell_type": "code",
   "execution_count": 29,
   "metadata": {},
   "outputs": [
    {
     "name": "stdout",
     "output_type": "stream",
     "text": [
      "Train on 110288 samples, validate on 27573 samples\n",
      "Epoch 1/10\n",
      "110288/110288 [==============================] - 13s 117us/step - loss: 3.5055 - acc: 0.4056 - val_loss: nan - val_acc: 0.4444\n",
      "Epoch 2/10\n",
      "110288/110288 [==============================] - 13s 114us/step - loss: 2.5636 - acc: 0.4694 - val_loss: nan - val_acc: 0.4954\n",
      "Epoch 3/10\n",
      "110288/110288 [==============================] - 13s 114us/step - loss: 2.3060 - acc: 0.4971 - val_loss: nan - val_acc: 0.5002\n",
      "Epoch 4/10\n",
      "110288/110288 [==============================] - 13s 114us/step - loss: 2.0931 - acc: 0.5083 - val_loss: nan - val_acc: 0.5146\n",
      "Epoch 5/10\n",
      "110288/110288 [==============================] - 13s 114us/step - loss: 1.9527 - acc: 0.5268 - val_loss: nan - val_acc: 0.5338\n",
      "Epoch 6/10\n",
      "110288/110288 [==============================] - 13s 113us/step - loss: 1.8645 - acc: 0.5417 - val_loss: nan - val_acc: 0.5500\n",
      "Epoch 7/10\n",
      "110288/110288 [==============================] - 13s 114us/step - loss: 1.7914 - acc: 0.5534 - val_loss: nan - val_acc: 0.5599\n",
      "Epoch 8/10\n",
      "110288/110288 [==============================] - 13s 114us/step - loss: 1.7263 - acc: 0.5642 - val_loss: nan - val_acc: 0.5709\n",
      "Epoch 9/10\n",
      "110288/110288 [==============================] - 13s 114us/step - loss: 1.6717 - acc: 0.5729 - val_loss: nan - val_acc: 0.5737\n",
      "Epoch 10/10\n",
      "110288/110288 [==============================] - 12s 113us/step - loss: 1.6256 - acc: 0.5792 - val_loss: nan - val_acc: 0.5809\n",
      "new est est est en en et mais il est est en <PAD> <PAD> <PAD> <PAD> <PAD> <PAD> <PAD> <PAD> <PAD>\n"
     ]
    }
   ],
   "source": [
    "def encdec_model(input_shape, output_sequence_length, english_vocab_size, french_vocab_size):\n",
    "    from keras.layers import LSTM\n",
    "    \n",
    "    lr = 1e-3\n",
    "    \n",
    "    il = Input(input_shape[1:])\n",
    "    encode_lstm = LSTM(64)(il)\n",
    "    rv = RepeatVector(output_sequence_length)(encode_lstm)\n",
    "    decode_lstm = LSTM(64, return_sequences=True)(rv)\n",
    "    td = TimeDistributed(Dense(french_vocab_size, activation='softmax'))(decode_lstm)\n",
    "\n",
    "    model = Model(inputs=il, outputs=td)\n",
    "    model.compile(loss=sparse_categorical_crossentropy,\n",
    "                  optimizer=Adam(lr),\n",
    "                  metrics=['accuracy'])\n",
    "\n",
    "    return model\n",
    "\n",
    "tests.test_encdec_model(encdec_model)\n",
    "\n",
    "\n",
    "# OPTIONAL: Train and Print prediction(s)\n",
    "tmp_x = pad(preproc_english_sentences, max_french_sequence_length)\n",
    "tmp_x = tmp_x.reshape((-1, preproc_french_sentences.shape[-2], 1))\n",
    "\n",
    "\n",
    "ecdcm = encdec_model(\n",
    "    tmp_x.shape,\n",
    "    max_french_sequence_length,\n",
    "    english_vocab_size,\n",
    "    french_vocab_size)\n",
    "\n",
    "tb = TensorBoard(log_dir='./logs/ecdcm', write_graph=True, write_images=True)\n",
    "\n",
    "es = EarlyStopping(monitor='val_acc', patience=3)\n",
    "h = ecdcm.fit(tmp_x, preproc_french_sentences, batch_size=1024, epochs=10, validation_split=0.2, callbacks = [tb,es])\n",
    "\n",
    "# TODO: Print prediction(s)\n",
    "print(logits_to_text(ecdcm.predict(tmp_x[:1])[0], french_tokenizer))"
   ]
  },
  {
   "cell_type": "code",
   "execution_count": 30,
   "metadata": {},
   "outputs": [
    {
     "name": "stdout",
     "output_type": "stream",
     "text": [
      "Train accurancy:  0.580209356679\n"
     ]
    },
    {
     "data": {
      "image/png": "[encoded data removed]",
      "text/plain": [
       "<matplotlib.figure.Figure at 0x7f71172996a0>"
      ]
     },
     "metadata": {
      "needs_background": "light"
     },
     "output_type": "display_data"
    }
   ],
   "source": [
    "catAcc(ecdcm, tmp_x, preproc_french_sentences)\n",
    "catHistory(h)"
   ]
  },
  {
   "cell_type": "markdown",
   "metadata": {},
   "source": [
    "### Model 5: Custom (IMPLEMENTATION)\n",
    "Use everything you learned from the previous models to create a model that incorporates embedding and a bidirectional rnn into one model."
   ]
  },
  {
   "cell_type": "code",
   "execution_count": 31,
   "metadata": {},
   "outputs": [
    {
     "name": "stdout",
     "output_type": "stream",
     "text": [
      "Final Model Loaded\n",
      "Train on 110288 samples, validate on 27573 samples\n",
      "Epoch 1/10\n",
      "110288/110288 [==============================] - 12s 107us/step - loss: 3.4543 - acc: 0.4284 - val_loss: nan - val_acc: 0.4755\n",
      "Epoch 2/10\n",
      "110288/110288 [==============================] - 12s 105us/step - loss: 2.3461 - acc: 0.4967 - val_loss: nan - val_acc: 0.5415\n",
      "Epoch 3/10\n",
      "110288/110288 [==============================] - 12s 104us/step - loss: 1.6363 - acc: 0.6097 - val_loss: nan - val_acc: 0.6559\n",
      "Epoch 4/10\n",
      "110288/110288 [==============================] - 12s 106us/step - loss: 1.1843 - acc: 0.7009 - val_loss: nan - val_acc: 0.7357\n",
      "Epoch 5/10\n",
      "110288/110288 [==============================] - 12s 106us/step - loss: 0.9339 - acc: 0.7557 - val_loss: nan - val_acc: 0.7736\n",
      "Epoch 6/10\n",
      "110288/110288 [==============================] - 12s 105us/step - loss: 0.7789 - acc: 0.7884 - val_loss: nan - val_acc: 0.8032\n",
      "Epoch 7/10\n",
      "110288/110288 [==============================] - 12s 104us/step - loss: 0.6648 - acc: 0.8132 - val_loss: nan - val_acc: 0.8239\n",
      "Epoch 8/10\n",
      "110288/110288 [==============================] - 12s 105us/step - loss: 0.5806 - acc: 0.8322 - val_loss: nan - val_acc: 0.8409\n",
      "Epoch 9/10\n",
      "110288/110288 [==============================] - 12s 105us/step - loss: 0.5183 - acc: 0.8476 - val_loss: nan - val_acc: 0.8537\n",
      "Epoch 10/10\n",
      "110288/110288 [==============================] - 12s 105us/step - loss: 0.4686 - acc: 0.8604 - val_loss: nan - val_acc: 0.8659\n",
      "new jersey est parfois calme pendant l' et il il est en en en <PAD> <PAD> <PAD> <PAD> <PAD> <PAD> <PAD>\n"
     ]
    }
   ],
   "source": [
    "def model_final(input_shape, output_sequence_length, english_vocab_size, french_vocab_size):\n",
    "    \n",
    "    lr=1e-3\n",
    "    il = Input(input_shape[1:])\n",
    "    el = Embedding(english_vocab_size, 64, input_length=output_sequence_length)(il)\n",
    "    bd = Bidirectional(GRU(64, return_sequences=True))(el)\n",
    "    td = TimeDistributed(Dense(french_vocab_size, activation='softmax'))(bd)\n",
    "\n",
    "    m = Model(inputs=il, outputs=td)\n",
    "    m.compile(loss=sparse_categorical_crossentropy,\n",
    "                  optimizer=Adam(lr),\n",
    "                  metrics=['accuracy'])\n",
    "    \n",
    "    return m\n",
    "\n",
    "tests.test_model_final(model_final)\n",
    "\n",
    "\n",
    "print('Final Model Loaded')\n",
    "\n",
    "tmp_x = pad(preproc_english_sentences, max_french_sequence_length)\n",
    "\n",
    "fm = model_final(\n",
    "    tmp_x.shape,\n",
    "    max_french_sequence_length,\n",
    "    english_vocab_size,\n",
    "    french_vocab_size)\n",
    "\n",
    "es = EarlyStopping(monitor='val_acc', patience=3)\n",
    "tb = TensorBoard(log_dir='./logs/fm', write_graph=True, write_images=True)\n",
    "\n",
    "fm.fit(tmp_x, preproc_french_sentences, batch_size=1024, epochs=10, validation_split=0.2, callbacks=[tb,es])\n",
    "\n",
    "# Print prediction(s)\n",
    "print(logits_to_text(fm.predict(tmp_x[:1])[0], french_tokenizer))"
   ]
  },
  {
   "cell_type": "code",
   "execution_count": 32,
   "metadata": {},
   "outputs": [
    {
     "name": "stdout",
     "output_type": "stream",
     "text": [
      "Train accurancy:  0.866583392353\n"
     ]
    },
    {
     "data": {
      "image/png": "[encoded data removed]",
      "text/plain": [
       "<matplotlib.figure.Figure at 0x7f71341ebd68>"
      ]
     },
     "metadata": {
      "needs_background": "light"
     },
     "output_type": "display_data"
    }
   ],
   "source": [
    "catAcc(fm, tmp_x, preproc_french_sentences)\n",
    "catHistory(h)"
   ]
  },
  {
   "cell_type": "markdown",
   "metadata": {},
   "source": [
    "## Prediction (IMPLEMENTATION)"
   ]
  },
  {
   "cell_type": "code",
   "execution_count": 40,
   "metadata": {
    "scrolled": true
   },
   "outputs": [
    {
     "name": "stdout",
     "output_type": "stream",
     "text": [
      "Train on 103395 samples, validate on 34466 samples\n",
      "Epoch 1/100\n",
      "103395/103395 [==============================] - 12s 112us/step - loss: 3.5340 - acc: 0.4196 - val_loss: nan - val_acc: 0.4735\n",
      "Epoch 2/100\n",
      "103395/103395 [==============================] - 11s 107us/step - loss: 2.3461 - acc: 0.4999 - val_loss: nan - val_acc: 0.5416\n",
      "Epoch 3/100\n",
      "103395/103395 [==============================] - 11s 107us/step - loss: 1.6527 - acc: 0.6074 - val_loss: nan - val_acc: 0.6505\n",
      "Epoch 4/100\n",
      "103395/103395 [==============================] - 11s 107us/step - loss: 1.2560 - acc: 0.6806 - val_loss: nan - val_acc: 0.7108\n",
      "Epoch 5/100\n",
      "103395/103395 [==============================] - 11s 107us/step - loss: 1.0135 - acc: 0.7316 - val_loss: nan - val_acc: 0.7537\n",
      "Epoch 6/100\n",
      "103395/103395 [==============================] - 11s 107us/step - loss: 0.8398 - acc: 0.7693 - val_loss: nan - val_acc: 0.7838\n",
      "Epoch 7/100\n",
      "103395/103395 [==============================] - 11s 107us/step - loss: 0.7171 - acc: 0.7968 - val_loss: nan - val_acc: 0.8085\n",
      "Epoch 8/100\n",
      "103395/103395 [==============================] - 11s 107us/step - loss: 0.6276 - acc: 0.8189 - val_loss: nan - val_acc: 0.8291\n",
      "Epoch 9/100\n",
      "103395/103395 [==============================] - 11s 108us/step - loss: 0.5587 - acc: 0.8356 - val_loss: nan - val_acc: 0.8439\n",
      "Epoch 10/100\n",
      "103395/103395 [==============================] - 11s 107us/step - loss: 0.5025 - acc: 0.8499 - val_loss: nan - val_acc: 0.8575\n",
      "Epoch 11/100\n",
      "103395/103395 [==============================] - 11s 107us/step - loss: 0.4563 - acc: 0.8626 - val_loss: nan - val_acc: 0.8703\n",
      "Epoch 12/100\n",
      "103395/103395 [==============================] - 11s 107us/step - loss: 0.4174 - acc: 0.8759 - val_loss: nan - val_acc: 0.8816\n",
      "Epoch 13/100\n",
      "103395/103395 [==============================] - 11s 107us/step - loss: 0.3844 - acc: 0.8868 - val_loss: nan - val_acc: 0.8901\n",
      "Epoch 14/100\n",
      "103395/103395 [==============================] - 11s 107us/step - loss: 0.3587 - acc: 0.8953 - val_loss: nan - val_acc: 0.8990\n",
      "Epoch 15/100\n",
      "103395/103395 [==============================] - 11s 107us/step - loss: 0.3364 - acc: 0.9022 - val_loss: nan - val_acc: 0.9044\n",
      "Epoch 16/100\n",
      "103395/103395 [==============================] - 11s 107us/step - loss: 0.3173 - acc: 0.9080 - val_loss: nan - val_acc: 0.9092\n",
      "Epoch 17/100\n",
      "103395/103395 [==============================] - 11s 107us/step - loss: 0.2983 - acc: 0.9139 - val_loss: nan - val_acc: 0.9143\n",
      "Epoch 18/100\n",
      "103395/103395 [==============================] - 11s 107us/step - loss: 0.2835 - acc: 0.9184 - val_loss: nan - val_acc: 0.9193\n",
      "Epoch 19/100\n",
      "103395/103395 [==============================] - 11s 107us/step - loss: 0.2693 - acc: 0.9228 - val_loss: nan - val_acc: 0.9240\n",
      "Epoch 20/100\n",
      "103395/103395 [==============================] - 11s 107us/step - loss: 0.2554 - acc: 0.9271 - val_loss: nan - val_acc: 0.9267\n",
      "Epoch 21/100\n",
      "103395/103395 [==============================] - 11s 107us/step - loss: 0.2448 - acc: 0.9302 - val_loss: nan - val_acc: 0.9296\n",
      "Epoch 22/100\n",
      "103395/103395 [==============================] - 11s 107us/step - loss: 0.2349 - acc: 0.9331 - val_loss: nan - val_acc: 0.9327\n",
      "Epoch 23/100\n",
      "103395/103395 [==============================] - 11s 107us/step - loss: 0.2251 - acc: 0.9361 - val_loss: nan - val_acc: 0.9343\n",
      "Epoch 24/100\n",
      "103395/103395 [==============================] - 11s 107us/step - loss: 0.2180 - acc: 0.9379 - val_loss: nan - val_acc: 0.9374\n",
      "Epoch 25/100\n",
      "103395/103395 [==============================] - 11s 108us/step - loss: 0.2099 - acc: 0.9405 - val_loss: nan - val_acc: 0.9398\n",
      "Epoch 26/100\n",
      "103395/103395 [==============================] - 11s 107us/step - loss: 0.2032 - acc: 0.9424 - val_loss: nan - val_acc: 0.9403\n",
      "Epoch 27/100\n",
      "103395/103395 [==============================] - 11s 107us/step - loss: 0.1983 - acc: 0.9439 - val_loss: nan - val_acc: 0.9426\n",
      "Epoch 28/100\n",
      "103395/103395 [==============================] - 11s 107us/step - loss: 0.1917 - acc: 0.9457 - val_loss: nan - val_acc: 0.9446\n",
      "Epoch 29/100\n",
      "103395/103395 [==============================] - 11s 107us/step - loss: 0.1853 - acc: 0.9478 - val_loss: nan - val_acc: 0.9448\n",
      "Epoch 30/100\n",
      "103395/103395 [==============================] - 11s 107us/step - loss: 0.1805 - acc: 0.9491 - val_loss: nan - val_acc: 0.9469\n",
      "Epoch 31/100\n",
      "103395/103395 [==============================] - 11s 107us/step - loss: 0.1768 - acc: 0.9503 - val_loss: nan - val_acc: 0.9487\n",
      "Epoch 32/100\n",
      "103395/103395 [==============================] - 11s 107us/step - loss: 0.1715 - acc: 0.9519 - val_loss: nan - val_acc: 0.9491\n",
      "Epoch 33/100\n",
      "103395/103395 [==============================] - 11s 107us/step - loss: 0.1684 - acc: 0.9529 - val_loss: nan - val_acc: 0.9512\n",
      "Epoch 34/100\n",
      "103395/103395 [==============================] - 11s 107us/step - loss: 0.1632 - acc: 0.9544 - val_loss: nan - val_acc: 0.9517\n",
      "Epoch 35/100\n",
      "103395/103395 [==============================] - 11s 107us/step - loss: 0.1605 - acc: 0.9550 - val_loss: nan - val_acc: 0.9532\n",
      "Epoch 36/100\n",
      "103395/103395 [==============================] - 11s 107us/step - loss: 0.1561 - acc: 0.9566 - val_loss: nan - val_acc: 0.9535\n",
      "Epoch 37/100\n",
      "103395/103395 [==============================] - 11s 107us/step - loss: 0.1533 - acc: 0.9573 - val_loss: nan - val_acc: 0.9546\n",
      "Epoch 38/100\n",
      "103395/103395 [==============================] - 11s 107us/step - loss: 0.1499 - acc: 0.9583 - val_loss: nan - val_acc: 0.9558\n",
      "Epoch 39/100\n",
      "103395/103395 [==============================] - 11s 107us/step - loss: 0.1468 - acc: 0.9592 - val_loss: nan - val_acc: 0.9561\n",
      "Epoch 40/100\n",
      "103395/103395 [==============================] - 11s 107us/step - loss: 0.1441 - acc: 0.9600 - val_loss: nan - val_acc: 0.9570\n",
      "Epoch 41/100\n",
      "103395/103395 [==============================] - 11s 106us/step - loss: 0.1418 - acc: 0.9605 - val_loss: nan - val_acc: 0.9571\n",
      "Epoch 42/100\n",
      "103395/103395 [==============================] - 11s 107us/step - loss: 0.1388 - acc: 0.9616 - val_loss: nan - val_acc: 0.9590\n",
      "Epoch 43/100\n",
      "103395/103395 [==============================] - 11s 107us/step - loss: 0.1363 - acc: 0.9622 - val_loss: nan - val_acc: 0.9589\n",
      "Epoch 44/100\n",
      "103395/103395 [==============================] - 11s 107us/step - loss: 0.1340 - acc: 0.9627 - val_loss: nan - val_acc: 0.9598\n",
      "Epoch 45/100\n",
      "103395/103395 [==============================] - 11s 106us/step - loss: 0.1308 - acc: 0.9640 - val_loss: nan - val_acc: 0.9611\n",
      "Epoch 46/100\n",
      "103395/103395 [==============================] - 11s 108us/step - loss: 0.1290 - acc: 0.9643 - val_loss: nan - val_acc: 0.9608\n",
      "Epoch 47/100\n",
      "103395/103395 [==============================] - 11s 107us/step - loss: 0.1273 - acc: 0.9647 - val_loss: nan - val_acc: 0.9610\n",
      "Epoch 48/100\n",
      "103395/103395 [==============================] - 11s 107us/step - loss: 0.1249 - acc: 0.9655 - val_loss: nan - val_acc: 0.9621\n",
      "Epoch 49/100\n",
      "103395/103395 [==============================] - 11s 107us/step - loss: 0.1254 - acc: 0.9653 - val_loss: nan - val_acc: 0.9627\n",
      "Epoch 50/100\n",
      "103395/103395 [==============================] - 11s 106us/step - loss: 0.1209 - acc: 0.9668 - val_loss: nan - val_acc: 0.9632\n",
      "Epoch 51/100\n",
      "103395/103395 [==============================] - 11s 107us/step - loss: 0.1189 - acc: 0.9672 - val_loss: nan - val_acc: 0.9631\n",
      "Epoch 52/100\n",
      "103395/103395 [==============================] - 11s 107us/step - loss: 0.1172 - acc: 0.9677 - val_loss: nan - val_acc: 0.9641\n",
      "Epoch 53/100\n",
      "103395/103395 [==============================] - 11s 107us/step - loss: 0.1157 - acc: 0.9681 - val_loss: nan - val_acc: 0.9643\n",
      "Epoch 54/100\n",
      "103395/103395 [==============================] - 11s 107us/step - loss: 0.1135 - acc: 0.9688 - val_loss: nan - val_acc: 0.9648\n",
      "Epoch 55/100\n",
      "103395/103395 [==============================] - 11s 107us/step - loss: 0.1125 - acc: 0.9689 - val_loss: nan - val_acc: 0.9657\n",
      "Epoch 56/100\n",
      "103395/103395 [==============================] - 11s 107us/step - loss: 0.1107 - acc: 0.9695 - val_loss: nan - val_acc: 0.9655- loss:\n",
      "Epoch 57/100\n",
      "103395/103395 [==============================] - 11s 108us/step - loss: 0.1098 - acc: 0.9698 - val_loss: nan - val_acc: 0.9664\n",
      "Epoch 58/100\n",
      "103395/103395 [==============================] - 11s 107us/step - loss: 0.1079 - acc: 0.9703 - val_loss: nan - val_acc: 0.9666\n",
      "Epoch 59/100\n",
      "103395/103395 [==============================] - 11s 107us/step - loss: 0.1069 - acc: 0.9706 - val_loss: nan - val_acc: 0.9654\n",
      "Epoch 60/100\n",
      "103395/103395 [==============================] - 11s 106us/step - loss: 0.1046 - acc: 0.9713 - val_loss: nan - val_acc: 0.9670\n",
      "Epoch 61/100\n",
      "103395/103395 [==============================] - 11s 107us/step - loss: 0.1043 - acc: 0.9714 - val_loss: nan - val_acc: 0.9670\n",
      "Epoch 62/100\n",
      "103395/103395 [==============================] - 11s 107us/step - loss: 0.1029 - acc: 0.9717 - val_loss: nan - val_acc: 0.9679\n",
      "Epoch 63/100\n",
      "103395/103395 [==============================] - 11s 107us/step - loss: 0.1008 - acc: 0.9724 - val_loss: nan - val_acc: 0.9676\n",
      "Epoch 64/100\n",
      "103395/103395 [==============================] - 11s 108us/step - loss: 0.1006 - acc: 0.9722 - val_loss: nan - val_acc: 0.9680\n",
      "Epoch 65/100\n",
      "103395/103395 [==============================] - 11s 107us/step - loss: 0.0982 - acc: 0.9731 - val_loss: nan - val_acc: 0.9689\n",
      "Epoch 66/100\n",
      "103395/103395 [==============================] - 11s 107us/step - loss: 0.0976 - acc: 0.9732 - val_loss: nan - val_acc: 0.9691\n",
      "Epoch 67/100\n",
      "103395/103395 [==============================] - 11s 106us/step - loss: 0.0972 - acc: 0.9733 - val_loss: nan - val_acc: 0.9693\n",
      "Epoch 68/100\n",
      "103395/103395 [==============================] - 11s 108us/step - loss: 0.0953 - acc: 0.9738 - val_loss: nan - val_acc: 0.9696\n",
      "Epoch 69/100\n",
      "103395/103395 [==============================] - 11s 107us/step - loss: 0.0942 - acc: 0.9741 - val_loss: nan - val_acc: 0.9700\n",
      "Epoch 70/100\n",
      "103395/103395 [==============================] - 11s 107us/step - loss: 0.0933 - acc: 0.9744 - val_loss: nan - val_acc: 0.9699\n",
      "Epoch 71/100\n",
      "103395/103395 [==============================] - 11s 107us/step - loss: 0.0926 - acc: 0.9745 - val_loss: nan - val_acc: 0.9702\n",
      "Epoch 72/100\n",
      "103395/103395 [==============================] - 11s 106us/step - loss: 0.0916 - acc: 0.9747 - val_loss: nan - val_acc: 0.9702\n",
      "Epoch 73/100\n",
      "103395/103395 [==============================] - 11s 108us/step - loss: 0.0913 - acc: 0.9749 - val_loss: nan - val_acc: 0.9703\n",
      "Epoch 74/100\n",
      "103395/103395 [==============================] - 11s 107us/step - loss: 0.0895 - acc: 0.9755 - val_loss: nan - val_acc: 0.9709\n",
      "Epoch 75/100\n",
      "103395/103395 [==============================] - 11s 106us/step - loss: 0.0891 - acc: 0.9754 - val_loss: nan - val_acc: 0.9701\n",
      "Epoch 76/100\n",
      "103395/103395 [==============================] - 11s 107us/step - loss: 0.0888 - acc: 0.9755 - val_loss: nan - val_acc: 0.9716\n",
      "Epoch 77/100\n",
      "103395/103395 [==============================] - 11s 106us/step - loss: 0.0874 - acc: 0.9759 - val_loss: nan - val_acc: 0.9711\n",
      "Epoch 78/100\n",
      "103395/103395 [==============================] - 11s 107us/step - loss: 0.0877 - acc: 0.9757 - val_loss: nan - val_acc: 0.9712\n",
      "Epoch 79/100\n",
      "103395/103395 [==============================] - 11s 107us/step - loss: 0.0866 - acc: 0.9761 - val_loss: nan - val_acc: 0.9718\n",
      "Epoch 80/100\n",
      "103395/103395 [==============================] - 11s 107us/step - loss: 0.0848 - acc: 0.9766 - val_loss: nan - val_acc: 0.9719\n",
      "Epoch 81/100\n",
      "103395/103395 [==============================] - 11s 106us/step - loss: 0.0843 - acc: 0.9768 - val_loss: nan - val_acc: 0.9724\n",
      "Epoch 82/100\n",
      "103395/103395 [==============================] - 11s 106us/step - loss: 0.0834 - acc: 0.9770 - val_loss: nan - val_acc: 0.9727\n",
      "Epoch 83/100\n",
      "103395/103395 [==============================] - 11s 106us/step - loss: 0.0828 - acc: 0.9771 - val_loss: nan - val_acc: 0.9725\n",
      "Epoch 84/100\n",
      "103395/103395 [==============================] - 11s 107us/step - loss: 0.0826 - acc: 0.9771 - val_loss: nan - val_acc: 0.9719\n",
      "Epoch 85/100\n",
      "103395/103395 [==============================] - 11s 107us/step - loss: 0.0814 - acc: 0.9775 - val_loss: nan - val_acc: 0.9728\n",
      "Epoch 86/100\n",
      "103395/103395 [==============================] - 11s 107us/step - loss: 0.0804 - acc: 0.9778 - val_loss: nan - val_acc: 0.9721\n",
      "Epoch 87/100\n",
      "103395/103395 [==============================] - 11s 106us/step - loss: 0.0814 - acc: 0.9774 - val_loss: nan - val_acc: 0.9731\n",
      "Epoch 88/100\n",
      "103395/103395 [==============================] - 11s 107us/step - loss: 0.0796 - acc: 0.9781 - val_loss: nan - val_acc: 0.9730\n",
      "Epoch 89/100\n",
      "103395/103395 [==============================] - 11s 106us/step - loss: 0.0789 - acc: 0.9782 - val_loss: nan - val_acc: 0.9729\n",
      "Epoch 90/100\n",
      "103395/103395 [==============================] - 11s 111us/step - loss: 0.0797 - acc: 0.9778 - val_loss: nan - val_acc: 0.9732\n",
      "Epoch 91/100\n",
      "103395/103395 [==============================] - 11s 106us/step - loss: 0.0738 - acc: 0.9798 - val_loss: nan - val_acc: 0.9746\n",
      "Epoch 92/100\n",
      "103395/103395 [==============================] - 11s 107us/step - loss: 0.0724 - acc: 0.9804 - val_loss: nan - val_acc: 0.9746\n",
      "Epoch 93/100\n",
      "103395/103395 [==============================] - 11s 107us/step - loss: 0.0721 - acc: 0.9805 - val_loss: nan - val_acc: 0.9748\n",
      "Epoch 94/100\n",
      "103395/103395 [==============================] - 11s 107us/step - loss: 0.0718 - acc: 0.9806 - val_loss: nan - val_acc: 0.9748\n",
      "Epoch 95/100\n",
      "103395/103395 [==============================] - 11s 107us/step - loss: 0.0716 - acc: 0.9807 - val_loss: nan - val_acc: 0.9748\n",
      "Epoch 96/100\n",
      "103395/103395 [==============================] - 11s 107us/step - loss: 0.0714 - acc: 0.9807 - val_loss: nan - val_acc: 0.9748\n",
      "Epoch 97/100\n",
      "103395/103395 [==============================] - 11s 107us/step - loss: 0.0709 - acc: 0.9809 - val_loss: nan - val_acc: 0.9749\n",
      "Epoch 98/100\n",
      "103395/103395 [==============================] - 11s 107us/step - loss: 0.0708 - acc: 0.9809 - val_loss: nan - val_acc: 0.9749\n",
      "Epoch 99/100\n",
      "103395/103395 [==============================] - 11s 107us/step - loss: 0.0708 - acc: 0.9809 - val_loss: nan - val_acc: 0.9749\n",
      "Epoch 100/100\n",
      "103395/103395 [==============================] - 11s 107us/step - loss: 0.0707 - acc: 0.9809 - val_loss: nan - val_acc: 0.9750\n",
      "Sample 1:\n",
      "il a vu un vieux camion jaune <PAD> <PAD> <PAD> <PAD> <PAD> <PAD> <PAD> <PAD> <PAD> <PAD> <PAD> <PAD> <PAD> <PAD>\n",
      "Il a vu un vieux camion jaune\n",
      "Sample 2:\n",
      "new jersey est parfois calme pendant l' automne et il est neigeux en avril <PAD> <PAD> <PAD> <PAD> <PAD> <PAD> <PAD>\n",
      "new jersey est parfois calme pendant l' automne et il est neigeux en avril <PAD> <PAD> <PAD> <PAD> <PAD> <PAD> <PAD>\n"
     ]
    }
   ],
   "source": [
    "def final_predictions(x, y, x_tk, y_tk):\n",
    "\n",
    "    max_english_sequence_length = x.shape[1]\n",
    "    max_french_sequence_length = y.shape[1]\n",
    "    english_vocab_size = len(x_tk.word_index)\n",
    "    french_vocab_size = len(y_tk.word_index)\n",
    "\n",
    "    x = pad(x, max_french_sequence_length)\n",
    "\n",
    "    es = EarlyStopping(monitor='val_acc', patience=10)\n",
    "    tb = TensorBoard(log_dir='./logs/fmp', write_graph=True, write_images=True)\n",
    "    rlr = ReduceLROnPlateau(monitor='val_acc', patience=2, min_lr=1e-9)\n",
    "    \n",
    "    model = model_final(x.shape, max_french_sequence_length, english_vocab_size, french_vocab_size)\n",
    "    \n",
    "    h = model.fit(x, y, batch_size=1024, epochs=100, validation_split=0.25, callbacks=[rlr,es,tb])\n",
    "\n",
    "    ## DON'T EDIT ANYTHING BELOW THIS LINE\n",
    "    y_id_to_word = {value: key for key, value in y_tk.word_index.items()}\n",
    "    y_id_to_word[0] = '<PAD>'\n",
    "\n",
    "    sentence = 'he saw a old yellow truck'\n",
    "    sentence = [x_tk.word_index[word] for word in sentence.split()]\n",
    "    sentence = pad_sequences([sentence], maxlen=x.shape[-1], padding='post')\n",
    "    sentences = np.array([sentence[0], x[0]])\n",
    "    predictions = model.predict(sentences, len(sentences))\n",
    "\n",
    "    print('Sample 1:')\n",
    "    print(' '.join([y_id_to_word[np.argmax(x)] for x in predictions[0]]))\n",
    "    print('Il a vu un vieux camion jaune')\n",
    "    print('Sample 2:')\n",
    "    print(' '.join([y_id_to_word[np.argmax(x)] for x in predictions[1]]))\n",
    "    print(' '.join([y_id_to_word[np.max(x)] for x in y[0]]))\n",
    "    \n",
    "    return h, model\n",
    "\n",
    "\n",
    "h, m = final_predictions(preproc_english_sentences, preproc_french_sentences, english_tokenizer, french_tokenizer)"
   ]
  },
  {
   "cell_type": "code",
   "execution_count": 41,
   "metadata": {},
   "outputs": [
    {
     "name": "stdout",
     "output_type": "stream",
     "text": [
      "Train accurancy:  0.979458610623\n"
     ]
    },
    {
     "data": {
      "image/png": "[encoded data removed]",
      "text/plain": [
       "<matplotlib.figure.Figure at 0x7f7107f02cc0>"
      ]
     },
     "metadata": {
      "needs_background": "light"
     },
     "output_type": "display_data"
    }
   ],
   "source": [
    "catAcc(m, tmp_x, preproc_french_sentences)\n",
    "catHistory(h)"
   ]
  },
  {
   "cell_type": "markdown",
   "metadata": {},
   "source": [
    "## Submission\n",
    "When you're ready to submit, complete the following steps:\n",
    "1. Review the [rubric](https://review.udacity.com/#!/rubrics/1004/view) to ensure your submission meets all requirements to pass\n",
    "2. Generate an HTML version of this notebook\n",
    "\n",
    "  - Run the next cell to attempt automatic generation (this is the recommended method in Workspaces)\n",
    "  - Navigate to **FILE -> Download as -> HTML (.html)**\n",
    "  - Manually generate a copy using `nbconvert` from your shell terminal\n",
    "```\n",
    "$ pip install nbconvert\n",
    "$ python -m nbconvert machine_translation.ipynb\n",
    "```\n",
    "  \n",
    "3. Submit the project\n",
    "\n",
    "  - If you are in a Workspace, simply click the \"Submit Project\" button (bottom towards the right)\n",
    "  \n",
    "  - Otherwise, add the following files into a zip archive and submit them \n",
    "  - `helper.py`\n",
    "  - `machine_translation.ipynb`\n",
    "  - `machine_translation.html`\n",
    "    - You can export the notebook by navigating to **File -> Download as -> HTML (.html)**."
   ]
  },
  {
   "cell_type": "markdown",
   "metadata": {},
   "source": [
    "### Generate the html\n",
    "\n",
    "**Save your notebook before running the next cell to generate the HTML output.** Then submit your project."
   ]
  },
  {
   "cell_type": "code",
   "execution_count": null,
   "metadata": {},
   "outputs": [],
   "source": [
    "# Save before you run this cell!\n",
    "!!jupyter nbconvert *.ipynb"
   ]
  },
  {
   "cell_type": "markdown",
   "metadata": {},
   "source": [
    "## Optional Enhancements\n",
    "\n",
    "This project focuses on learning various network architectures for machine translation, but we don't evaluate the models according to best practices by splitting the data into separate test & training sets -- so the model accuracy is overstated. Use the [`sklearn.model_selection.train_test_split()`](http://scikit-learn.org/stable/modules/generated/sklearn.model_selection.train_test_split.html) function to create separate training & test datasets, then retrain each of the models using only the training set and evaluate the prediction accuracy using the hold out test set. Does the \"best\" model change?"
   ]
  }
 ],
 "metadata": {
  "kernelspec": {
   "display_name": "Python 3",
   "language": "python",
   "name": "python3"
  },
  "language_info": {
   "codemirror_mode": {
    "name": "ipython",
    "version": 3
   },
   "file_extension": ".py",
   "mimetype": "text/x-python",
   "name": "python",
   "nbconvert_exporter": "python",
   "pygments_lexer": "ipython3",
   "version": "3.6.3"
  }
 },
 "nbformat": 4,
 "nbformat_minor": 1
}
